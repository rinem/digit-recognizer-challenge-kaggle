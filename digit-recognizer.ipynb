{
 "cells": [
  {
   "cell_type": "code",
   "execution_count": 1,
   "metadata": {},
   "outputs": [
    {
     "name": "stderr",
     "output_type": "stream",
     "text": [
      "Using TensorFlow backend.\n",
      "d:\\mltensor\\lib\\site-packages\\tensorflow\\python\\framework\\dtypes.py:516: FutureWarning: Passing (type, 1) or '1type' as a synonym of type is deprecated; in a future version of numpy, it will be understood as (type, (1,)) / '(1,)type'.\n",
      "  _np_qint8 = np.dtype([(\"qint8\", np.int8, 1)])\n",
      "d:\\mltensor\\lib\\site-packages\\tensorflow\\python\\framework\\dtypes.py:517: FutureWarning: Passing (type, 1) or '1type' as a synonym of type is deprecated; in a future version of numpy, it will be understood as (type, (1,)) / '(1,)type'.\n",
      "  _np_quint8 = np.dtype([(\"quint8\", np.uint8, 1)])\n",
      "d:\\mltensor\\lib\\site-packages\\tensorflow\\python\\framework\\dtypes.py:518: FutureWarning: Passing (type, 1) or '1type' as a synonym of type is deprecated; in a future version of numpy, it will be understood as (type, (1,)) / '(1,)type'.\n",
      "  _np_qint16 = np.dtype([(\"qint16\", np.int16, 1)])\n",
      "d:\\mltensor\\lib\\site-packages\\tensorflow\\python\\framework\\dtypes.py:519: FutureWarning: Passing (type, 1) or '1type' as a synonym of type is deprecated; in a future version of numpy, it will be understood as (type, (1,)) / '(1,)type'.\n",
      "  _np_quint16 = np.dtype([(\"quint16\", np.uint16, 1)])\n",
      "d:\\mltensor\\lib\\site-packages\\tensorflow\\python\\framework\\dtypes.py:520: FutureWarning: Passing (type, 1) or '1type' as a synonym of type is deprecated; in a future version of numpy, it will be understood as (type, (1,)) / '(1,)type'.\n",
      "  _np_qint32 = np.dtype([(\"qint32\", np.int32, 1)])\n",
      "d:\\mltensor\\lib\\site-packages\\tensorflow\\python\\framework\\dtypes.py:525: FutureWarning: Passing (type, 1) or '1type' as a synonym of type is deprecated; in a future version of numpy, it will be understood as (type, (1,)) / '(1,)type'.\n",
      "  np_resource = np.dtype([(\"resource\", np.ubyte, 1)])\n",
      "d:\\mltensor\\lib\\site-packages\\tensorboard\\compat\\tensorflow_stub\\dtypes.py:541: FutureWarning: Passing (type, 1) or '1type' as a synonym of type is deprecated; in a future version of numpy, it will be understood as (type, (1,)) / '(1,)type'.\n",
      "  _np_qint8 = np.dtype([(\"qint8\", np.int8, 1)])\n",
      "d:\\mltensor\\lib\\site-packages\\tensorboard\\compat\\tensorflow_stub\\dtypes.py:542: FutureWarning: Passing (type, 1) or '1type' as a synonym of type is deprecated; in a future version of numpy, it will be understood as (type, (1,)) / '(1,)type'.\n",
      "  _np_quint8 = np.dtype([(\"quint8\", np.uint8, 1)])\n",
      "d:\\mltensor\\lib\\site-packages\\tensorboard\\compat\\tensorflow_stub\\dtypes.py:543: FutureWarning: Passing (type, 1) or '1type' as a synonym of type is deprecated; in a future version of numpy, it will be understood as (type, (1,)) / '(1,)type'.\n",
      "  _np_qint16 = np.dtype([(\"qint16\", np.int16, 1)])\n",
      "d:\\mltensor\\lib\\site-packages\\tensorboard\\compat\\tensorflow_stub\\dtypes.py:544: FutureWarning: Passing (type, 1) or '1type' as a synonym of type is deprecated; in a future version of numpy, it will be understood as (type, (1,)) / '(1,)type'.\n",
      "  _np_quint16 = np.dtype([(\"quint16\", np.uint16, 1)])\n",
      "d:\\mltensor\\lib\\site-packages\\tensorboard\\compat\\tensorflow_stub\\dtypes.py:545: FutureWarning: Passing (type, 1) or '1type' as a synonym of type is deprecated; in a future version of numpy, it will be understood as (type, (1,)) / '(1,)type'.\n",
      "  _np_qint32 = np.dtype([(\"qint32\", np.int32, 1)])\n",
      "d:\\mltensor\\lib\\site-packages\\tensorboard\\compat\\tensorflow_stub\\dtypes.py:550: FutureWarning: Passing (type, 1) or '1type' as a synonym of type is deprecated; in a future version of numpy, it will be understood as (type, (1,)) / '(1,)type'.\n",
      "  np_resource = np.dtype([(\"resource\", np.ubyte, 1)])\n"
     ]
    }
   ],
   "source": [
    "#Importing Libraries\n",
    "\n",
    "import numpy as np \n",
    "import pandas as pd \n",
    "import seaborn as sns \n",
    "import matplotlib.pyplot as plt\n",
    "\n",
    "from sklearn.model_selection import train_test_split\n",
    "from keras.layers import Conv2D,MaxPool2D,Dense,Flatten,Dropout\n",
    "from keras.models import Sequential\n",
    "from keras.utils.np_utils import to_categorical \n",
    "from keras.optimizers import Adam\n",
    "import os\n"
   ]
  },
  {
   "cell_type": "code",
   "execution_count": 2,
   "metadata": {},
   "outputs": [],
   "source": [
    "# Loading data\n",
    "train_data = pd.read_csv('train.csv')\n",
    "test_data = pd.read_csv('test.csv')"
   ]
  },
  {
   "cell_type": "code",
   "execution_count": 3,
   "metadata": {},
   "outputs": [
    {
     "data": {
      "text/plain": [
       "<matplotlib.axes._subplots.AxesSubplot at 0x1f3ce6dd3c8>"
      ]
     },
     "execution_count": 3,
     "metadata": {},
     "output_type": "execute_result"
    },
    {
     "data": {
      "image/png": "[encoded data removed]",
      "text/plain": [
       "<Figure size 432x288 with 1 Axes>"
      ]
     },
     "metadata": {
      "needs_background": "light"
     },
     "output_type": "display_data"
    }
   ],
   "source": [
    "Y_train = train_data['label']\n",
    "sns.countplot(Y_train)"
   ]
  },
  {
   "cell_type": "code",
   "execution_count": 4,
   "metadata": {},
   "outputs": [],
   "source": [
    "X_train = train_data.drop('label',axis = 1)"
   ]
  },
  {
   "cell_type": "code",
   "execution_count": 5,
   "metadata": {},
   "outputs": [],
   "source": [
    "del train_data"
   ]
  },
  {
   "cell_type": "code",
   "execution_count": 6,
   "metadata": {},
   "outputs": [
    {
     "data": {
      "text/plain": [
       "count       784\n",
       "unique        1\n",
       "top       False\n",
       "freq        784\n",
       "dtype: object"
      ]
     },
     "execution_count": 6,
     "metadata": {},
     "output_type": "execute_result"
    }
   ],
   "source": [
    "# Checking for Null-values in Training Data\n",
    "X_train.isnull().any().describe()"
   ]
  },
  {
   "cell_type": "code",
   "execution_count": 7,
   "metadata": {},
   "outputs": [
    {
     "data": {
      "text/plain": [
       "count       784\n",
       "unique        1\n",
       "top       False\n",
       "freq        784\n",
       "dtype: object"
      ]
     },
     "execution_count": 7,
     "metadata": {},
     "output_type": "execute_result"
    }
   ],
   "source": [
    "# Checking for Null-values in Training Data\n",
    "test_data.isnull().any().describe()"
   ]
  },
  {
   "cell_type": "code",
   "execution_count": 8,
   "metadata": {},
   "outputs": [],
   "source": [
    "# Normalisation of Training and Test data\n",
    "X_train = X_train/255.0\n",
    "test_data = test_data/255.0"
   ]
  },
  {
   "cell_type": "code",
   "execution_count": 9,
   "metadata": {},
   "outputs": [],
   "source": [
    "# Reshaping training and test data\n",
    "X_train = X_train.values.reshape(-1,28,28,1)\n",
    "test_data = test_data.values.reshape(-1,28,28,1)"
   ]
  },
  {
   "cell_type": "code",
   "execution_count": 11,
   "metadata": {},
   "outputs": [
    {
     "data": {
      "text/plain": [
       "(42000, 28, 28, 1)"
      ]
     },
     "execution_count": 11,
     "metadata": {},
     "output_type": "execute_result"
    }
   ],
   "source": [
    "# Checking shape of training data\n",
    "X_train.shape"
   ]
  },
  {
   "cell_type": "code",
   "execution_count": 12,
   "metadata": {},
   "outputs": [
    {
     "data": {
      "text/plain": [
       "(28000, 28, 28, 1)"
      ]
     },
     "execution_count": 12,
     "metadata": {},
     "output_type": "execute_result"
    }
   ],
   "source": [
    "# Checking shape of test data\n",
    "test_data.shape"
   ]
  },
  {
   "cell_type": "code",
   "execution_count": 13,
   "metadata": {},
   "outputs": [],
   "source": [
    "# One hot encoding categorical labels\n",
    "Y_train = to_categorical(Y_train,num_classes = 10)"
   ]
  },
  {
   "cell_type": "code",
   "execution_count": 14,
   "metadata": {},
   "outputs": [],
   "source": [
    "# Spliting training and testing data\n",
    "random_seed = 42\n",
    "X_train,test_X,Y_train,test_Y = train_test_split(X_train,Y_train,test_size = 0.1,random_state = random_seed)"
   ]
  },
  {
   "cell_type": "code",
   "execution_count": 29,
   "metadata": {},
   "outputs": [
    {
     "data": {
      "image/png": "[encoded data removed]",
      "text/plain": [
       "<Figure size 720x720 with 25 Axes>"
      ]
     },
     "metadata": {},
     "output_type": "display_data"
    }
   ],
   "source": [
    "# Plotting some images\n",
    "\n",
    "plt.figure(figsize=(10,10))\n",
    "for i in range(25):\n",
    "    plt.subplot(5,5,i+1)\n",
    "    plt.xticks([])\n",
    "    plt.yticks([])\n",
    "    plt.grid(False)\n",
    "    plt.imshow(X_train[i][:,:,0])\n",
    "    plt.xlabel(list(Y_train[i]).index(1))\n",
    "plt.show()"
   ]
  },
  {
   "cell_type": "code",
   "execution_count": 34,
   "metadata": {},
   "outputs": [
    {
     "name": "stderr",
     "output_type": "stream",
     "text": [
      "W0824 20:44:48.229425  7056 deprecation.py:506] From d:\\mltensor\\lib\\site-packages\\keras\\backend\\tensorflow_backend.py:3445: calling dropout (from tensorflow.python.ops.nn_ops) with keep_prob is deprecated and will be removed in a future version.\n",
      "Instructions for updating:\n",
      "Please use `rate` instead of `keep_prob`. Rate should be set to `rate = 1 - keep_prob`.\n"
     ]
    }
   ],
   "source": [
    "# Creating different layers\n",
    "\n",
    "model = Sequential()\n",
    "\n",
    "model.add(Conv2D(filters = 32,kernel_size = (5,5),input_shape = (28,28,1),activation = 'relu',padding = 'same'))\n",
    "model.add(Conv2D(filters = 32,kernel_size = (5,5),input_shape = (28,28,1),activation = 'relu',padding = 'same'))\n",
    "model.add(MaxPool2D((2,2)))\n",
    "model.add(Dropout(0.25))\n",
    "\n",
    "model.add(Conv2D(filters = 64, kernel_size = (3,3),padding = 'Same', \n",
    "                 activation ='relu'))\n",
    "model.add(Conv2D(filters = 64, kernel_size = (3,3),padding = 'Same', \n",
    "                 activation ='relu'))\n",
    "model.add(MaxPool2D(pool_size=(2,2), strides=(2,2)))\n",
    "model.add(Dropout(0.25))\n",
    "\n",
    "model.add(Flatten())\n",
    "model.add(Dense(256, activation = \"relu\"))\n",
    "model.add(Dropout(0.5))\n",
    "model.add(Dense(10, activation = \"softmax\"))"
   ]
  },
  {
   "cell_type": "code",
   "execution_count": 35,
   "metadata": {},
   "outputs": [],
   "source": [
    "# Compiling different layers\n",
    "model.compile(optimizer = 'adam',loss = 'categorical_crossentropy',metrics = ['accuracy'])"
   ]
  },
  {
   "cell_type": "code",
   "execution_count": 36,
   "metadata": {},
   "outputs": [
    {
     "name": "stdout",
     "output_type": "stream",
     "text": [
      "Train on 37800 samples, validate on 4200 samples\n",
      "Epoch 1/50\n",
      "37800/37800 [==============================] - 7s 198us/step - loss: 0.2806 - acc: 0.9090 - val_loss: 0.0692 - val_acc: 0.9798\n",
      "Epoch 2/50\n",
      "37800/37800 [==============================] - 6s 171us/step - loss: 0.0808 - acc: 0.9748 - val_loss: 0.0376 - val_acc: 0.9888\n",
      "Epoch 3/50\n",
      "37800/37800 [==============================] - 6s 171us/step - loss: 0.0615 - acc: 0.9812 - val_loss: 0.0345 - val_acc: 0.9893\n",
      "Epoch 4/50\n",
      "37800/37800 [==============================] - 7s 172us/step - loss: 0.0496 - acc: 0.9848 - val_loss: 0.0282 - val_acc: 0.9912\n",
      "Epoch 5/50\n",
      "37800/37800 [==============================] - 7s 173us/step - loss: 0.0385 - acc: 0.9877 - val_loss: 0.0286 - val_acc: 0.9910\n",
      "Epoch 6/50\n",
      "37800/37800 [==============================] - 7s 173us/step - loss: 0.0352 - acc: 0.9894 - val_loss: 0.0258 - val_acc: 0.9931\n",
      "Epoch 7/50\n",
      "37800/37800 [==============================] - 7s 174us/step - loss: 0.0311 - acc: 0.9904 - val_loss: 0.0371 - val_acc: 0.9888\n",
      "Epoch 8/50\n",
      "37800/37800 [==============================] - 7s 174us/step - loss: 0.0301 - acc: 0.9907 - val_loss: 0.0274 - val_acc: 0.9900\n",
      "Epoch 9/50\n",
      "37800/37800 [==============================] - 7s 174us/step - loss: 0.0269 - acc: 0.9920 - val_loss: 0.0288 - val_acc: 0.9900\n",
      "Epoch 10/50\n",
      "37800/37800 [==============================] - 7s 174us/step - loss: 0.0247 - acc: 0.9923 - val_loss: 0.0253 - val_acc: 0.9926\n",
      "Epoch 11/50\n",
      "37800/37800 [==============================] - 7s 175us/step - loss: 0.0226 - acc: 0.9930 - val_loss: 0.0277 - val_acc: 0.9926\n",
      "Epoch 12/50\n",
      "37800/37800 [==============================] - 7s 178us/step - loss: 0.0207 - acc: 0.9931 - val_loss: 0.0257 - val_acc: 0.9924\n",
      "Epoch 13/50\n",
      "37800/37800 [==============================] - 7s 184us/step - loss: 0.0179 - acc: 0.9944 - val_loss: 0.0297 - val_acc: 0.9921\n",
      "Epoch 14/50\n",
      "37800/37800 [==============================] - 7s 195us/step - loss: 0.0195 - acc: 0.9941 - val_loss: 0.0361 - val_acc: 0.9912\n",
      "Epoch 15/50\n",
      "37800/37800 [==============================] - 7s 175us/step - loss: 0.0193 - acc: 0.9936 - val_loss: 0.0282 - val_acc: 0.9924\n",
      "Epoch 16/50\n",
      "37800/37800 [==============================] - 7s 177us/step - loss: 0.0172 - acc: 0.9947 - val_loss: 0.0266 - val_acc: 0.9926\n",
      "Epoch 17/50\n",
      "37800/37800 [==============================] - 7s 176us/step - loss: 0.0163 - acc: 0.9951 - val_loss: 0.0325 - val_acc: 0.9936\n",
      "Epoch 18/50\n",
      "37800/37800 [==============================] - 7s 182us/step - loss: 0.0154 - acc: 0.9947 - val_loss: 0.0261 - val_acc: 0.9933\n",
      "Epoch 19/50\n",
      "37800/37800 [==============================] - 7s 181us/step - loss: 0.0144 - acc: 0.9951 - val_loss: 0.0339 - val_acc: 0.9921\n",
      "Epoch 20/50\n",
      "37800/37800 [==============================] - 7s 179us/step - loss: 0.0124 - acc: 0.9963 - val_loss: 0.0302 - val_acc: 0.9919\n",
      "Epoch 21/50\n",
      "37800/37800 [==============================] - 6s 171us/step - loss: 0.0125 - acc: 0.9960 - val_loss: 0.0283 - val_acc: 0.9938\n",
      "Epoch 22/50\n",
      "37800/37800 [==============================] - 7s 173us/step - loss: 0.0121 - acc: 0.9963 - val_loss: 0.0387 - val_acc: 0.9917\n",
      "Epoch 23/50\n",
      "37800/37800 [==============================] - 6s 171us/step - loss: 0.0158 - acc: 0.9949 - val_loss: 0.0297 - val_acc: 0.9919\n",
      "Epoch 24/50\n",
      "37800/37800 [==============================] - 6s 167us/step - loss: 0.0120 - acc: 0.9961 - val_loss: 0.0359 - val_acc: 0.9921\n",
      "Epoch 25/50\n",
      "37800/37800 [==============================] - 6s 169us/step - loss: 0.0112 - acc: 0.9963 - val_loss: 0.0287 - val_acc: 0.9921\n",
      "Epoch 26/50\n",
      "37800/37800 [==============================] - 7s 174us/step - loss: 0.0093 - acc: 0.9970 - val_loss: 0.0424 - val_acc: 0.9907\n",
      "Epoch 27/50\n",
      "37800/37800 [==============================] - 6s 168us/step - loss: 0.0124 - acc: 0.9959 - val_loss: 0.0353 - val_acc: 0.9919\n",
      "Epoch 28/50\n",
      "37800/37800 [==============================] - 6s 167us/step - loss: 0.0107 - acc: 0.9968 - val_loss: 0.0418 - val_acc: 0.9917\n",
      "Epoch 29/50\n",
      "37800/37800 [==============================] - 6s 171us/step - loss: 0.0107 - acc: 0.9968 - val_loss: 0.0333 - val_acc: 0.9929\n",
      "Epoch 30/50\n",
      "37800/37800 [==============================] - 7s 174us/step - loss: 0.0091 - acc: 0.9968 - val_loss: 0.0330 - val_acc: 0.9945\n",
      "Epoch 31/50\n",
      "37800/37800 [==============================] - 6s 171us/step - loss: 0.0127 - acc: 0.9961 - val_loss: 0.0291 - val_acc: 0.9936\n",
      "Epoch 32/50\n",
      "37800/37800 [==============================] - 6s 172us/step - loss: 0.0091 - acc: 0.9973 - val_loss: 0.0425 - val_acc: 0.9936\n",
      "Epoch 33/50\n",
      "37800/37800 [==============================] - 7s 174us/step - loss: 0.0094 - acc: 0.9971 - val_loss: 0.0383 - val_acc: 0.9926\n",
      "Epoch 34/50\n",
      "37800/37800 [==============================] - 6s 172us/step - loss: 0.0096 - acc: 0.9969 - val_loss: 0.0349 - val_acc: 0.9914\n",
      "Epoch 35/50\n",
      "37800/37800 [==============================] - 6s 172us/step - loss: 0.0076 - acc: 0.9976 - val_loss: 0.0361 - val_acc: 0.9926\n",
      "Epoch 36/50\n",
      "37800/37800 [==============================] - 7s 172us/step - loss: 0.0097 - acc: 0.9970 - val_loss: 0.0328 - val_acc: 0.9938\n",
      "Epoch 37/50\n",
      "37800/37800 [==============================] - 7s 173us/step - loss: 0.0097 - acc: 0.9971 - val_loss: 0.0329 - val_acc: 0.9924\n",
      "Epoch 38/50\n",
      "37800/37800 [==============================] - 7s 173us/step - loss: 0.0092 - acc: 0.9970 - val_loss: 0.0377 - val_acc: 0.9924\n",
      "Epoch 39/50\n",
      "37800/37800 [==============================] - 7s 180us/step - loss: 0.0088 - acc: 0.9974 - val_loss: 0.0398 - val_acc: 0.9926\n",
      "Epoch 40/50\n",
      "37800/37800 [==============================] - 6s 169us/step - loss: 0.0095 - acc: 0.9967 - val_loss: 0.0392 - val_acc: 0.9917\n",
      "Epoch 41/50\n",
      "37800/37800 [==============================] - 6s 170us/step - loss: 0.0074 - acc: 0.9976 - val_loss: 0.0445 - val_acc: 0.9919\n",
      "Epoch 42/50\n",
      "37800/37800 [==============================] - 6s 172us/step - loss: 0.0067 - acc: 0.9978 - val_loss: 0.0429 - val_acc: 0.9926\n",
      "Epoch 43/50\n",
      "37800/37800 [==============================] - 6s 168us/step - loss: 0.0069 - acc: 0.9979 - val_loss: 0.0448 - val_acc: 0.9914\n",
      "Epoch 44/50\n",
      "37800/37800 [==============================] - 6s 172us/step - loss: 0.0082 - acc: 0.9975 - val_loss: 0.0482 - val_acc: 0.9924\n",
      "Epoch 45/50\n",
      "37800/37800 [==============================] - 7s 173us/step - loss: 0.0094 - acc: 0.9970 - val_loss: 0.0401 - val_acc: 0.9919\n",
      "Epoch 46/50\n",
      "37800/37800 [==============================] - 7s 173us/step - loss: 0.0091 - acc: 0.9975 - val_loss: 0.0406 - val_acc: 0.9914\n",
      "Epoch 47/50\n",
      "37800/37800 [==============================] - 6s 172us/step - loss: 0.0086 - acc: 0.9977 - val_loss: 0.0394 - val_acc: 0.9924\n",
      "Epoch 48/50\n",
      "37800/37800 [==============================] - 7s 179us/step - loss: 0.0065 - acc: 0.9980 - val_loss: 0.0321 - val_acc: 0.9948\n",
      "Epoch 49/50\n",
      "37800/37800 [==============================] - 7s 175us/step - loss: 0.0068 - acc: 0.9980 - val_loss: 0.0375 - val_acc: 0.9933\n",
      "Epoch 50/50\n",
      "37800/37800 [==============================] - 7s 173us/step - loss: 0.0095 - acc: 0.9972 - val_loss: 0.0345 - val_acc: 0.9948\n"
     ]
    },
    {
     "data": {
      "text/plain": [
       "<keras.callbacks.History at 0x1f38a93be80>"
      ]
     },
     "execution_count": 36,
     "metadata": {},
     "output_type": "execute_result"
    }
   ],
   "source": [
    "model.fit(x = X_train,y = Y_train,batch_size = 128,epochs = 50,validation_data=(test_X,test_Y))"
   ]
  },
  {
   "cell_type": "code",
   "execution_count": 37,
   "metadata": {},
   "outputs": [],
   "source": [
    "result = model.predict(test_data)"
   ]
  },
  {
   "cell_type": "code",
   "execution_count": 38,
   "metadata": {},
   "outputs": [],
   "source": [
    "results = np.argmax(result,axis = 1)"
   ]
  },
  {
   "cell_type": "code",
   "execution_count": 39,
   "metadata": {},
   "outputs": [],
   "source": [
    "Label = pd.Series(results,name = 'Label')\n",
    "ImageId = pd.Series(range(1,28001),name = 'ImageId')\n",
    "submission = pd.concat([ImageId,Label],axis = 1)\n",
    "submission.to_csv('submission.csv',index = False)"
   ]
  },
  {
   "cell_type": "code",
   "execution_count": null,
   "metadata": {},
   "outputs": [],
   "source": []
  }
 ],
 "metadata": {
  "kernelspec": {
   "display_name": "Python 3",
   "language": "python",
   "name": "python3"
  },
  "language_info": {
   "codemirror_mode": {
    "name": "ipython",
    "version": 3
   },
   "file_extension": ".py",
   "mimetype": "text/x-python",
   "name": "python",
   "nbconvert_exporter": "python",
   "pygments_lexer": "ipython3",
   "version": "3.6.7"
  }
 },
 "nbformat": 4,
 "nbformat_minor": 4
}
